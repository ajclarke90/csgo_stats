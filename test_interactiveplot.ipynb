{
 "metadata": {
  "name": "",
  "signature": "sha256:75ac5bb8bcb14506cc716a5de6d6618e2e25d7e8ee468381690428a6bdba8e94"
 },
 "nbformat": 3,
 "nbformat_minor": 0,
 "worksheets": [
  {
   "cells": [
    {
     "cell_type": "code",
     "collapsed": false,
     "input": [
      "import csstats\n",
      "csstats.plotting.plot_damage(wtype=\"rifle\")"
     ],
     "language": "python",
     "metadata": {},
     "outputs": [
      {
       "metadata": {},
       "output_type": "pyout",
       "prompt_number": 1,
       "text": [
        "<module 'matplotlib.pyplot' from '/home/ajclarke/Enthought/Canopy_64bit/User/lib/python2.7/site-packages/matplotlib/pyplot.pyc'>"
       ]
      }
     ],
     "prompt_number": 1
    },
    {
     "cell_type": "code",
     "collapsed": false,
     "input": [],
     "language": "python",
     "metadata": {},
     "outputs": []
    }
   ],
   "metadata": {}
  }
 ]
}